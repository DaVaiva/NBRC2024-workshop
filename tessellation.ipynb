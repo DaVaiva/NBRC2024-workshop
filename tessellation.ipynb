{
 "cells": [
  {
   "cell_type": "code",
   "execution_count": null,
   "metadata": {},
   "outputs": [],
   "source": [
    "import os\n",
    "# required libraries\n",
    "import geopandas as gpd\n",
    "import momepy as mp\n",
    "import matplotlib"
   ]
  },
  {
   "cell_type": "code",
   "execution_count": null,
   "metadata": {},
   "outputs": [],
   "source": [
    "# Load data to use for boundaries | Geopandas\n",
    "roads = gpd.read_file(\"C:/py_projects/NBRC2024_workshop/VectorData/current_roads.shp\", include_fields=[\"geometry\"])\n",
    "rivers = gpd.read_file(\"C:/py_projects/NBRC2024_workshop/VectorData/hidro.shp\", include_fields=[\"geometry\"])\n",
    "limits = gpd.read_file(\"C:/py_projects/NBRC2024_workshop/VectorData/city_limits.shp\", include_fields=[\"geometry\"])"
   ]
  },
  {
   "cell_type": "code",
   "execution_count": null,
   "metadata": {},
   "outputs": [],
   "source": [
    "# Run cell if you want to see how it looks like | Matplotlib\n",
    "ax = roads.plot(figsize=(15, 15))\n",
    "rivers.plot(ax=ax, color='r')\n",
    "limits.plot(ax=ax, color='g')"
   ]
  },
  {
   "cell_type": "code",
   "execution_count": null,
   "metadata": {},
   "outputs": [],
   "source": [
    "#barriers = pd.concat([roads.geometry, rivers.geometry]) # merge barriers | Momepy\n",
    "enclosures = mp.enclosures(roads, limit = limits, additional_barriers = [rivers])"
   ]
  },
  {
   "cell_type": "code",
   "execution_count": null,
   "metadata": {},
   "outputs": [],
   "source": [
    "enclosures.plot(figsize=(10, 10), edgecolor='w').set_axis_off()"
   ]
  },
  {
   "cell_type": "code",
   "execution_count": null,
   "metadata": {},
   "outputs": [],
   "source": [
    "enclosures.to_file(\"C:/py_projects/NBRC2024_workshop/VectorData/enclosures.geojson\")"
   ]
  },
  {
   "cell_type": "markdown",
   "metadata": {},
   "source": [
    "Test out tessellation with buildings to create parcels\n",
    "\n",
    "Documentation:\n",
    "https://docs.momepy.org/en/stable/generated/momepy.Tessellation.html#momepy.Tessellation"
   ]
  },
  {
   "cell_type": "code",
   "execution_count": null,
   "metadata": {},
   "outputs": [],
   "source": [
    "buildings = gpd.read_file(\"C:/py_projects/NBRC2024_workshop/VectorData/buildings.shp\", include_fields=[\"geometry\"])\n"
   ]
  },
  {
   "cell_type": "code",
   "execution_count": null,
   "metadata": {},
   "outputs": [],
   "source": [
    "enclosed_tess = mp.Tessellation(buildings, unique_id='uID', enclosures = enclosures).tessellation # .tessellation is an attribute through which you can access the geodataframe"
   ]
  },
  {
   "cell_type": "code",
   "execution_count": null,
   "metadata": {},
   "outputs": [],
   "source": [
    "ax = enclosed_tess.plot(figsize=(12, 12), edgecolor='w')\n",
    "buildings.plot(ax=ax, color='w', alpha=.6)\n",
    "ax.set_xlim(583320, 583728) # LKS EPS 3346\n",
    "ax.set_ylim(6061038, 6061471)"
   ]
  },
  {
   "cell_type": "code",
   "execution_count": null,
   "metadata": {},
   "outputs": [],
   "source": [
    "enclosed_tess.to_file(\"C:/py_projects/NBRC2024_workshop/VectorData/parcels.geojson\")"
   ]
  }
 ],
 "metadata": {
  "kernelspec": {
   "display_name": "lcenv",
   "language": "python",
   "name": "python3"
  },
  "language_info": {
   "codemirror_mode": {
    "name": "ipython",
    "version": 3
   },
   "file_extension": ".py",
   "mimetype": "text/x-python",
   "name": "python",
   "nbconvert_exporter": "python",
   "pygments_lexer": "ipython3",
   "version": "3.10.12"
  }
 },
 "nbformat": 4,
 "nbformat_minor": 2
}
