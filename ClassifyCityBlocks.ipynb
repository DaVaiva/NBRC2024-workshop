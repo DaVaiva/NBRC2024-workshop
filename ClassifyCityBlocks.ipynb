{
 "cells": [
  {
   "cell_type": "code",
   "execution_count": null,
   "metadata": {},
   "outputs": [],
   "source": [
    "import geopandas as gpd\n",
    "import matplotlib.pyplot as plt"
   ]
  },
  {
   "cell_type": "code",
   "execution_count": null,
   "metadata": {},
   "outputs": [],
   "source": [
    "# load only the required columns of geoJSON file\n",
    "gdf_columns = ['Tree_Canopy', 'Meadow', 'Structures', 'Imperv_all', 'FZ_predicted']\n",
    "gdf = gpd.read_file('C:/qgis_outputs/kvartalai_lc.geojson', usecols=gdf_columns)"
   ]
  },
  {
   "cell_type": "code",
   "execution_count": null,
   "metadata": {},
   "outputs": [],
   "source": [
    "# PCZ\n",
    "condition1 = (gdf['Imperv_all'] >= 70) & (gdf['Structures'] >= 50) | (gdf['Imperv_all'] >= 60) & (gdf['Structures'] > 50) & (gdf['Meadow'] < 10)\n",
    "gdf.loc[condition1, 'FZ_predicted'] = 'PCZ'\n",
    "# MDCZ\n",
    "condition2 = (gdf['Imperv_all'] >= 70) & (gdf['Structures'] <= 55) & (gdf['Meadow'] < 15)\n",
    "gdf.loc[condition2, 'FZ_predicted'] = 'MDCZ'\n",
    "# IIZ\n",
    "condition3 = (gdf['Imperv_all'] >= 64) & (gdf['Imperv_all'] < 70) & (gdf['Structures'] < 20)\n",
    "gdf.loc[condition3, 'FZ_predicted'] = 'IIZ'\n",
    "# PSZ\n",
    "condition4 = (gdf['Imperv_all'] >= 60) & (gdf['Imperv_all'] < 64)\n",
    "gdf.loc[condition4, 'FZ_predicted'] = 'PSZ'\n",
    "# PZ\n",
    "condition5 = (gdf['Imperv_all'] >= 40) & (gdf['Imperv_all'] < 80) & (gdf['Imperv_Surf'] >= 30) & (gdf['Imperv_Surf'] <= 50) & (gdf['Structures'] > 20) & (gdf['Structures'] < 35)\n",
    "gdf.loc[condition5, 'FZ_predicted'] = 'PZ'\n",
    "# IUGZ\n",
    "condition6 = (gdf['Imperv_all'] >= 40) & (gdf['Imperv_all'] <= 70) & (gdf['Imperv_Surf'] > 10) & (gdf['Imperv_Surf'] < 35)\n",
    "gdf.loc[condition6, 'FZ_predicted'] = 'IUGZ'\n",
    "# SKZ\n",
    "condition7 = (gdf['Imperv_all'] >= 40) & (gdf['Imperv_all'] < 70) & (gdf['Meadow'] > 15) & (gdf['Meadow'] < 30) & (gdf['Tree_Canopy'] > 10) & (gdf['Tree_Canopy'] < 25)\n",
    "gdf.loc[condition7, 'FZ_predicted'] = 'SKZ'\n",
    "# VUIGZ\n",
    "condition8 = (gdf['Imperv_all'] >= 30) & (gdf['Imperv_all'] <= 50) & (gdf['Meadow'] <= 30)\n",
    "gdf.loc[condition8, 'FZ_predicted'] = 'VUIGZ'\n",
    "# SBZ\n",
    "condition9 = (gdf['Imperv_all'] >= 20) & (gdf['Imperv_all'] < 40) & (gdf['Meadow'] > 50)\n",
    "gdf.loc[condition9, 'FZ_predicted'] = 'SBZ'\n",
    "# MUIGZ\n",
    "condition10 = (gdf['Imperv_all'] >= 20) & (gdf['Imperv_all'] < 40) & (gdf['Meadow'] <= 50)\n",
    "gdf.loc[condition10, 'FZ_predicted'] = 'MUIGZ'\n",
    "# EUGZ\n",
    "condition11 = (gdf['Imperv_all'] < 20)\n",
    "gdf.loc[condition11, 'FZ_predicted'] = 'EUGZ'\n"
   ]
  },
  {
   "cell_type": "code",
   "execution_count": null,
   "metadata": {},
   "outputs": [],
   "source": [
    "# PCZ | FILL IN THE GAPS FROM PREVIOUS CELL\n",
    "condition1 = (gdf['Imperv_all'] >= 75) & (gdf['Meadow'] < 10)\n",
    "gdf.loc[condition1 & (gdf['FZ_predicted'].isna()), 'FZ_predicted'] = 'PCZ'\n",
    "# MDCZ\n",
    "condition2 = (gdf['Imperv_all'] >= 70) & (gdf['Imperv_all'] < 75) | (gdf['Imperv_all'] >= 70) & (gdf['Meadow'] > 10)\n",
    "gdf.loc[condition2 & (gdf['FZ_predicted'].isna()), 'FZ_predicted'] = 'MDCZ'\n",
    "# IIZ\n",
    "condition3 = (gdf['Imperv_all'] >= 64) & (gdf['Imperv_all'] < 70)\n",
    "gdf.loc[condition3 & (gdf['FZ_predicted'].isna()), 'FZ_predicted'] = 'IIZ'\n",
    "# PSZ\n",
    "condition4 = (gdf['Imperv_all'] >= 60) & (gdf['Imperv_all'] < 64)\n",
    "gdf.loc[condition4 & (gdf['FZ_predicted'].isna()), 'FZ_predicted'] = 'PSZ'\n",
    "# PZ\n",
    "condition5 = (gdf['Imperv_all'] >= 55) & (gdf['Imperv_all'] < 60)\n",
    "gdf.loc[condition5 & (gdf['FZ_predicted'].isna()), 'FZ_predicted'] = 'PZ'\n",
    "# IUGZ\n",
    "condition6 = (gdf['Imperv_all'] >= 50) & (gdf['Imperv_all'] < 55)\n",
    "gdf.loc[condition6 & (gdf['FZ_predicted'].isna()), 'FZ_predicted'] = 'IUGZ'\n",
    "# SKZ\n",
    "condition7 = (gdf['Imperv_all'] >= 40) & (gdf['Imperv_all'] < 50)\n",
    "gdf.loc[condition7 & (gdf['FZ_predicted'].isna()), 'FZ_predicted'] = 'SKZ'\n",
    "# VUIGZ\n",
    "condition8 = (gdf['Imperv_all'] >= 40) & (gdf['Imperv_all'] < 44)\n",
    "gdf.loc[condition8 & (gdf['FZ_predicted'].isna()), 'FZ_predicted'] = 'VUIGZ'\n",
    "# SBZ\n",
    "condition9 = (gdf['Imperv_all'] >= 20) & (gdf['Imperv_all'] < 40) & (gdf['Meadow'] > 50)\n",
    "gdf.loc[condition9 & (gdf['FZ_predicted'].isna()), 'FZ_predicted'] = 'SBZ'\n",
    "# MUIGZ\n",
    "condition10 = (gdf['Imperv_all'] >= 20) & (gdf['Imperv_all'] < 40) & (gdf['Meadow'] < 50)\n",
    "gdf.loc[condition10 & (gdf['FZ_predicted'].isna()), 'FZ_predicted'] = 'MUIGZ'\n",
    "# EUGZ\n",
    "condition11 = (gdf['Imperv_all'] < 20)\n",
    "gdf.loc[condition11 & (gdf['FZ_predicted'].isna()), 'FZ_predicted'] = 'EUGZ'"
   ]
  },
  {
   "cell_type": "code",
   "execution_count": null,
   "metadata": {},
   "outputs": [],
   "source": [
    "gdf.plot(column='FZ_predicted')\n",
    "plt.title('Polygon Plot')\n",
    "plt.show()"
   ]
  },
  {
   "cell_type": "code",
   "execution_count": null,
   "metadata": {},
   "outputs": [],
   "source": [
    "# Save the updated GeoDataFrame to a new geoJSON\n",
    "gdf.to_file('C:/qgis_outputs/kvartalai_FZ_LC.geojson')"
   ]
  },
  {
   "cell_type": "markdown",
   "metadata": {},
   "source": [
    "Colour codes for functional zone symbolization in QGIS. EUGZ: #ffffcc | IIZ: #cccccc | IUGZ: #ccbd64 | MDGZ: #ad8955 | MUIGZ: #f4f8a5 | PCZ: #854c29 | PSZ: #c7b1b1 | PZ: #ff5050 | SBZ: #b7bb8f | SKZ: #edac07 | VUIGZ: #e6e078"
   ]
  }
 ],
 "metadata": {
  "kernelspec": {
   "display_name": "lcenv",
   "language": "python",
   "name": "python3"
  },
  "language_info": {
   "codemirror_mode": {
    "name": "ipython",
    "version": 3
   },
   "file_extension": ".py",
   "mimetype": "text/x-python",
   "name": "python",
   "nbconvert_exporter": "python",
   "pygments_lexer": "ipython3",
   "version": "3.10.12"
  }
 },
 "nbformat": 4,
 "nbformat_minor": 2
}
